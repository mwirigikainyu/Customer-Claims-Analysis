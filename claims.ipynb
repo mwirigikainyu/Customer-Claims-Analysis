{
 "cells": [
  {
   "cell_type": "markdown",
   "metadata": {},
   "source": [
    "# <u>An Analysis on Vivendo Fast Food Claims Process in Brazil</u>\n",
    "\n",
    "### Company Background\n",
    "Vivendo is a fast food chain in Brazil with over 200 outlets. As with many fast food establishments, customers make claims against the company. For example, they blame Vivendo for suspected food poisoning. The legal team, who processes these claims, is currently split across four locations. The new head of the legal department wants to see if there are differences in the time it takes to close claims across the locations. The legal team has given you a data set where each row is a claim made against the company. \n",
    "\n",
    "### Dataset\n",
    "The dataset contains one row for each claim. This table contains a description of each of claims' columns and will be useful to correctly interpret the data.\n",
    "\n",
    "|Column Name            | Criteria                                                                                                                              |    \n",
    "|-----------------------|---------------------------------------------------------------------------------------------------------------------------------------|\n",
    "|Claim ID               |Character, the unique identifier of the claim.                                                                                         |\n",
    "|Time to Close          |Numeric, number of days it took for the claim to be closed.                                                                            |\n",
    "|Claim Amount           |Numeric, initial claim value in the currency of Brazil. For example, “R$50,000.00” should be converted into 50000.                     |\n",
    "|Amount Paid            |Numeric, total amount paid after the claim closed in the currency of Brazil.                                                           |\n",
    "|Location               |Character, location of the claim, one of “RECIFE”, “SAO LUIS”, “FORTALEZA”, or “NATAL”.                                                |\n",
    "|Individuals on Claim   |Numeric, number of individuals on this claim.                                                                                          |\n",
    "|Linked Cases           |Binary, whether this claim is believed to be linked with other cases, either TRUE or FALSE.                                            |\n",
    "|Cause                  |Character, the cause of the food poisoning injuries, one of ‘vegetable’, ‘meat’, or ‘unknown’. Replace any empty rows with ‘unknown’.  |\n",
    "\n",
    "### <b>📌Customer Question:</b>\n",
    "They would like you to answer the following questions:\n",
    "- <b>How does the number of claims differ across locations?</b>\n",
    "- <b>What is the distribution of time to close claims?</b>\n",
    "- <b>How does the average time to close claims differ by location?</b>"
   ]
  },
  {
   "cell_type": "markdown",
   "metadata": {},
   "source": [
    "Let's start by loading all the necessary Python packages"
   ]
  },
  {
   "cell_type": "code",
   "execution_count": 364,
   "metadata": {},
   "outputs": [],
   "source": [
    "# Import necessary libraries\n",
    "import numpy as np\n",
    "import pandas as pd\n",
    "import matplotlib.pyplot as plt\n",
    "import seaborn as sns"
   ]
  },
  {
   "cell_type": "markdown",
   "metadata": {},
   "source": [
    "Load Dataframe"
   ]
  },
  {
   "cell_type": "code",
   "execution_count": 365,
   "metadata": {},
   "outputs": [
    {
     "data": {
      "text/html": [
       "<div>\n",
       "<style scoped>\n",
       "    .dataframe tbody tr th:only-of-type {\n",
       "        vertical-align: middle;\n",
       "    }\n",
       "\n",
       "    .dataframe tbody tr th {\n",
       "        vertical-align: top;\n",
       "    }\n",
       "\n",
       "    .dataframe thead th {\n",
       "        text-align: right;\n",
       "    }\n",
       "</style>\n",
       "<table border=\"1\" class=\"dataframe\">\n",
       "  <thead>\n",
       "    <tr style=\"text-align: right;\">\n",
       "      <th></th>\n",
       "      <th>Claim ID</th>\n",
       "      <th>Time to Close</th>\n",
       "      <th>Claim Amount</th>\n",
       "      <th>Amount Paid</th>\n",
       "      <th>Location</th>\n",
       "      <th>Individuals on Claim</th>\n",
       "      <th>Linked Cases</th>\n",
       "      <th>Cause</th>\n",
       "    </tr>\n",
       "  </thead>\n",
       "  <tbody>\n",
       "    <tr>\n",
       "      <th>0</th>\n",
       "      <td>0000000-00.2010.0.00.0094</td>\n",
       "      <td>2082</td>\n",
       "      <td>R$50,000.00</td>\n",
       "      <td>34297.47</td>\n",
       "      <td>RECIFE</td>\n",
       "      <td>2</td>\n",
       "      <td>False</td>\n",
       "      <td>NaN</td>\n",
       "    </tr>\n",
       "    <tr>\n",
       "      <th>1</th>\n",
       "      <td>0000000-00.2011.0.00.0086</td>\n",
       "      <td>3591</td>\n",
       "      <td>R$180,000.00</td>\n",
       "      <td>56383.54</td>\n",
       "      <td>SAO LUIS</td>\n",
       "      <td>7</td>\n",
       "      <td>False</td>\n",
       "      <td>NaN</td>\n",
       "    </tr>\n",
       "    <tr>\n",
       "      <th>2</th>\n",
       "      <td>0000000-00.2012.0.00.0092</td>\n",
       "      <td>2997</td>\n",
       "      <td>R$70,000.00</td>\n",
       "      <td>12366.76</td>\n",
       "      <td>SAO LUIS</td>\n",
       "      <td>3</td>\n",
       "      <td>False</td>\n",
       "      <td>vegetables</td>\n",
       "    </tr>\n",
       "    <tr>\n",
       "      <th>3</th>\n",
       "      <td>0000000-00.2013.0.00.0096</td>\n",
       "      <td>1143</td>\n",
       "      <td>R$95,104.00</td>\n",
       "      <td>29217.16</td>\n",
       "      <td>FORTALEZA</td>\n",
       "      <td>4</td>\n",
       "      <td>False</td>\n",
       "      <td>NaN</td>\n",
       "    </tr>\n",
       "    <tr>\n",
       "      <th>4</th>\n",
       "      <td>0000000-00.2014.0.00.0097</td>\n",
       "      <td>117</td>\n",
       "      <td>R$29,000.00</td>\n",
       "      <td>12610.50</td>\n",
       "      <td>FORTALEZA</td>\n",
       "      <td>1</td>\n",
       "      <td>False</td>\n",
       "      <td>meat</td>\n",
       "    </tr>\n",
       "  </tbody>\n",
       "</table>\n",
       "</div>"
      ],
      "text/plain": [
       "                    Claim ID  Time to Close  Claim Amount  Amount Paid  \\\n",
       "0  0000000-00.2010.0.00.0094           2082   R$50,000.00     34297.47   \n",
       "1  0000000-00.2011.0.00.0086           3591  R$180,000.00     56383.54   \n",
       "2  0000000-00.2012.0.00.0092           2997   R$70,000.00     12366.76   \n",
       "3  0000000-00.2013.0.00.0096           1143   R$95,104.00     29217.16   \n",
       "4  0000000-00.2014.0.00.0097            117   R$29,000.00     12610.50   \n",
       "\n",
       "    Location  Individuals on Claim  Linked Cases       Cause  \n",
       "0     RECIFE                     2         False         NaN  \n",
       "1   SAO LUIS                     7         False         NaN  \n",
       "2   SAO LUIS                     3         False  vegetables  \n",
       "3  FORTALEZA                     4         False         NaN  \n",
       "4  FORTALEZA                     1         False        meat  "
      ]
     },
     "execution_count": 365,
     "metadata": {},
     "output_type": "execute_result"
    }
   ],
   "source": [
    "# Preview the first rows of our dataset\n",
    "claims = pd.read_csv(r'./claims.csv')\n",
    "claims.head()"
   ]
  },
  {
   "cell_type": "markdown",
   "metadata": {},
   "source": [
    "### <u>Exploratory Data Analysis</u>"
   ]
  },
  {
   "cell_type": "code",
   "execution_count": 366,
   "metadata": {},
   "outputs": [
    {
     "name": "stdout",
     "output_type": "stream",
     "text": [
      "<class 'pandas.core.frame.DataFrame'>\n",
      "RangeIndex: 98 entries, 0 to 97\n",
      "Data columns (total 8 columns):\n",
      " #   Column                Non-Null Count  Dtype  \n",
      "---  ------                --------------  -----  \n",
      " 0   Claim ID              98 non-null     object \n",
      " 1   Time to Close         98 non-null     int64  \n",
      " 2   Claim Amount          98 non-null     object \n",
      " 3   Amount Paid           98 non-null     float64\n",
      " 4   Location              98 non-null     object \n",
      " 5   Individuals on Claim  98 non-null     int64  \n",
      " 6   Linked Cases          98 non-null     bool   \n",
      " 7   Cause                 20 non-null     object \n",
      "dtypes: bool(1), float64(1), int64(2), object(4)\n",
      "memory usage: 5.6+ KB\n"
     ]
    }
   ],
   "source": [
    "# Quick overall glimpse at our data\n",
    "claims.info()"
   ]
  },
  {
   "cell_type": "markdown",
   "metadata": {},
   "source": [
    "We have 98 rows and 8 columns and only the Cause column contains NaN or null values - 78 to be exact. Now lets check if we have any duplicates in the dataset by using the unique identifier (Claim ID)"
   ]
  },
  {
   "cell_type": "code",
   "execution_count": 367,
   "metadata": {},
   "outputs": [
    {
     "name": "stdout",
     "output_type": "stream",
     "text": [
      "0\n"
     ]
    }
   ],
   "source": [
    "dupes = claims[claims.duplicated(['Claim ID'])]\n",
    "print(len(dupes))"
   ]
  },
  {
   "cell_type": "markdown",
   "metadata": {},
   "source": [
    "There are no duplicates in our data. "
   ]
  },
  {
   "cell_type": "markdown",
   "metadata": {},
   "source": [
    "### a. Data Cleaning and Validation\n",
    "\n",
    "Lets begin cleaning and validating our data. Based on our table description above, the rows with inconsistencies is the Cause and Claim Amount columns. The Claim Amount column is currently an object data-type column but should be a numeric data-type and the Cause column contains null values. \n",
    "\n",
    "Lets begin by first changing the null values we identified to 'unknown' since these are unidentified food poisoning causes for each claim."
   ]
  },
  {
   "cell_type": "code",
   "execution_count": 368,
   "metadata": {},
   "outputs": [
    {
     "data": {
      "text/plain": [
       "unknown       78\n",
       "meat          12\n",
       "vegetables     8\n",
       "Name: Cause, dtype: int64"
      ]
     },
     "execution_count": 368,
     "metadata": {},
     "output_type": "execute_result"
    }
   ],
   "source": [
    "claims['Cause'].fillna('unknown', inplace=True)\n",
    "claims.Cause.value_counts()"
   ]
  },
  {
   "cell_type": "markdown",
   "metadata": {},
   "source": [
    "We have successfully replaced our null values and confirmed the number to still be 78 unknown values while getting a glimpse of our other values in the Cause column; 12 claims were cause by meat and 8 by vegetables"
   ]
  },
  {
   "cell_type": "markdown",
   "metadata": {},
   "source": [
    "Lets clean the Claim Amount column by running a loop on each column value. We do this by creating a dictionary with our replacements, which in this case are empty since we want to remove these characters. Then we can change the datatype of the whole column to an interger"
   ]
  },
  {
   "cell_type": "code",
   "execution_count": 369,
   "metadata": {},
   "outputs": [],
   "source": [
    "replacements = {'R$':'', '.00':'', ',':''}\n",
    "for key, value in replacements.items():\n",
    "    claims['Claim Amount'] = claims['Claim Amount'].apply(lambda x: x.replace(key,value))\n",
    "claims['Claim Amount'] = claims['Claim Amount'].astype(int)"
   ]
  },
  {
   "cell_type": "code",
   "execution_count": 370,
   "metadata": {},
   "outputs": [
    {
     "name": "stdout",
     "output_type": "stream",
     "text": [
      "<class 'pandas.core.frame.DataFrame'>\n",
      "RangeIndex: 98 entries, 0 to 97\n",
      "Data columns (total 8 columns):\n",
      " #   Column                Non-Null Count  Dtype  \n",
      "---  ------                --------------  -----  \n",
      " 0   Claim ID              98 non-null     object \n",
      " 1   Time to Close         98 non-null     int64  \n",
      " 2   Claim Amount          98 non-null     int32  \n",
      " 3   Amount Paid           98 non-null     float64\n",
      " 4   Location              98 non-null     object \n",
      " 5   Individuals on Claim  98 non-null     int64  \n",
      " 6   Linked Cases          98 non-null     bool   \n",
      " 7   Cause                 98 non-null     object \n",
      "dtypes: bool(1), float64(1), int32(1), int64(2), object(3)\n",
      "memory usage: 5.2+ KB\n"
     ]
    }
   ],
   "source": [
    "# Lets confirm if our data is clean \n",
    "claims.info()"
   ]
  },
  {
   "cell_type": "markdown",
   "metadata": {},
   "source": [
    "Our data is now ready for Analysis and Exploration"
   ]
  },
  {
   "cell_type": "markdown",
   "metadata": {},
   "source": [
    "### b. Data Analysis\n",
    "\n",
    "<b>Goal:</b> Are there differences in the time it takes to close claims across different locations?\n",
    "\n",
    "<b>Qstn 1. How does the number of claims differ across locations?</b>"
   ]
  },
  {
   "cell_type": "markdown",
   "metadata": {},
   "source": [
    "Let's investigate using the data we have to determine how the claims are dispersed according to locations. Let's start by analysing the amount of claims per location"
   ]
  },
  {
   "cell_type": "code",
   "execution_count": 371,
   "metadata": {},
   "outputs": [
    {
     "data": {
      "text/html": [
       "<div>\n",
       "<style scoped>\n",
       "    .dataframe tbody tr th:only-of-type {\n",
       "        vertical-align: middle;\n",
       "    }\n",
       "\n",
       "    .dataframe tbody tr th {\n",
       "        vertical-align: top;\n",
       "    }\n",
       "\n",
       "    .dataframe thead th {\n",
       "        text-align: right;\n",
       "    }\n",
       "</style>\n",
       "<table border=\"1\" class=\"dataframe\">\n",
       "  <thead>\n",
       "    <tr style=\"text-align: right;\">\n",
       "      <th></th>\n",
       "      <th>Claims</th>\n",
       "      <th>%</th>\n",
       "    </tr>\n",
       "  </thead>\n",
       "  <tbody>\n",
       "    <tr>\n",
       "      <th>SAO LUIS</th>\n",
       "      <td>30</td>\n",
       "      <td>30.61</td>\n",
       "    </tr>\n",
       "    <tr>\n",
       "      <th>RECIFE</th>\n",
       "      <td>25</td>\n",
       "      <td>25.51</td>\n",
       "    </tr>\n",
       "    <tr>\n",
       "      <th>FORTALEZA</th>\n",
       "      <td>22</td>\n",
       "      <td>22.45</td>\n",
       "    </tr>\n",
       "    <tr>\n",
       "      <th>NATAL</th>\n",
       "      <td>21</td>\n",
       "      <td>21.43</td>\n",
       "    </tr>\n",
       "  </tbody>\n",
       "</table>\n",
       "</div>"
      ],
      "text/plain": [
       "           Claims      %\n",
       "SAO LUIS       30  30.61\n",
       "RECIFE         25  25.51\n",
       "FORTALEZA      22  22.45\n",
       "NATAL          21  21.43"
      ]
     },
     "execution_count": 371,
     "metadata": {},
     "output_type": "execute_result"
    }
   ],
   "source": [
    "# Find the percentage of claims per location\n",
    "claim_num = claims['Location'].value_counts().to_frame(name='Claims')\n",
    "claim_num['%'] = round((claim_num['Claims']/ claim_num.Claims.sum())*100, 2)\n",
    "claim_num"
   ]
  },
  {
   "cell_type": "code",
   "execution_count": 377,
   "metadata": {},
   "outputs": [
    {
     "data": {
      "image/png": "[encoded data removed]",
      "text/plain": [
       "<Figure size 432x288 with 1 Axes>"
      ]
     },
     "metadata": {
      "needs_background": "light"
     },
     "output_type": "display_data"
    }
   ],
   "source": [
    "# Visualize the distribution of claims across different locations\n",
    "sns.histplot(data=claims, x='Location', hue='Location', legend=False, palette='pastel').set(title='Amount of Claims per Location')\n",
    "plt.show()"
   ]
  },
  {
   "cell_type": "markdown",
   "metadata": {},
   "source": [
    "It seems that the number of claims are highest in Sao Luis at 30.61% and Lowest in Natal at 21.43%. With the other two other locations; Recife and Fortaleza, each having 25.51% and 22.45% respectively. There definitely appears to be a difference in the number of claims each location handles but the difference is slightly under 10%"
   ]
  },
  {
   "cell_type": "markdown",
   "metadata": {},
   "source": [
    "<b>Qstn 2. What is the distribution of time to close claims?</b>"
   ]
  },
  {
   "cell_type": "markdown",
   "metadata": {},
   "source": [
    "To answer this question, lets analyze the comparison between how long it takes to close a claim across the four different locations while maintaining the same order as the number of claims per locations above"
   ]
  },
  {
   "cell_type": "code",
   "execution_count": null,
   "metadata": {},
   "outputs": [
    {
     "data": {
      "image/png": "[encoded data removed]",
      "text/plain": [
       "<Figure size 453.25x360 with 1 Axes>"
      ]
     },
     "metadata": {
      "needs_background": "light"
     },
     "output_type": "display_data"
    }
   ],
   "source": [
    "# Lets visualize the distribution of the Time to Close data\n",
    "sns.displot(data=claims, x='Time to Close', kind='kde', hue='Location').set(title='Time to Close Distribution')\n",
    "plt.show()"
   ]
  },
  {
   "cell_type": "code",
   "execution_count": null,
   "metadata": {},
   "outputs": [
    {
     "data": {
      "image/png": "[encoded data removed]",
      "text/plain": [
       "<Figure size 649.375x576 with 1 Axes>"
      ]
     },
     "metadata": {
      "needs_background": "light"
     },
     "output_type": "display_data"
    }
   ],
   "source": [
    "# Lets visualize the time to close data categorised into different cases\n",
    "sns.catplot(\n",
    "    data=claims, \n",
    "    x='Time to Close', \n",
    "    y='Location', \n",
    "    kind='box',\n",
    "    hue='Linked Cases',\n",
    "    order=claim_num.index,\n",
    "    palette='pastel',\n",
    "    height=8\n",
    ").set(title='Time to Close per Location')\n",
    "plt.show()"
   ]
  },
  {
   "cell_type": "markdown",
   "metadata": {},
   "source": [
    "We can observe how right skewed our distribution is across all locations due to the outliers. \n",
    "\n",
    "Observations:\n",
    "- There is a pattern that annotates that the locations with a higher number of claims generally take a longer time to close.\n",
    "- There is a difference between how quick cases that are linked to another case and those that are not linked to another case are closed. Sao Luis takes a longer time to close linked cases compared to Natal that closes linked cases faster than non-linked cases"
   ]
  },
  {
   "cell_type": "markdown",
   "metadata": {},
   "source": [
    "<b>Qstn 3. How does the average time to close claims differ by location?</b>"
   ]
  },
  {
   "cell_type": "markdown",
   "metadata": {},
   "source": [
    "Based on our above finding lets explore deeper how varied the average time to close is in different locations. The mean, is greatly affected by outliers and so in this case we will use the median to attain a more accurate figure. Lets view our full summary statistics."
   ]
  },
  {
   "cell_type": "code",
   "execution_count": null,
   "metadata": {},
   "outputs": [
    {
     "data": {
      "text/plain": [
       "count      98.000000\n",
       "mean      832.346939\n",
       "std       686.851131\n",
       "min       -57.000000\n",
       "25%       340.750000\n",
       "50%       638.500000\n",
       "75%      1138.750000\n",
       "max      3591.000000\n",
       "Name: Time to Close, dtype: float64"
      ]
     },
     "execution_count": 357,
     "metadata": {},
     "output_type": "execute_result"
    }
   ],
   "source": [
    "claims['Time to Close'].describe()"
   ]
  },
  {
   "cell_type": "code",
   "execution_count": null,
   "metadata": {},
   "outputs": [
    {
     "data": {
      "text/html": [
       "<div>\n",
       "<style scoped>\n",
       "    .dataframe tbody tr th:only-of-type {\n",
       "        vertical-align: middle;\n",
       "    }\n",
       "\n",
       "    .dataframe tbody tr th {\n",
       "        vertical-align: top;\n",
       "    }\n",
       "\n",
       "    .dataframe thead th {\n",
       "        text-align: right;\n",
       "    }\n",
       "</style>\n",
       "<table border=\"1\" class=\"dataframe\">\n",
       "  <thead>\n",
       "    <tr style=\"text-align: right;\">\n",
       "      <th></th>\n",
       "      <th>(Avg)Time to Close</th>\n",
       "    </tr>\n",
       "    <tr>\n",
       "      <th>Location</th>\n",
       "      <th></th>\n",
       "    </tr>\n",
       "  </thead>\n",
       "  <tbody>\n",
       "    <tr>\n",
       "      <th>SAO LUIS</th>\n",
       "      <td>1037.5</td>\n",
       "    </tr>\n",
       "    <tr>\n",
       "      <th>RECIFE</th>\n",
       "      <td>875.0</td>\n",
       "    </tr>\n",
       "    <tr>\n",
       "      <th>FORTALEZA</th>\n",
       "      <td>611.0</td>\n",
       "    </tr>\n",
       "    <tr>\n",
       "      <th>NATAL</th>\n",
       "      <td>477.0</td>\n",
       "    </tr>\n",
       "  </tbody>\n",
       "</table>\n",
       "</div>"
      ],
      "text/plain": [
       "           (Avg)Time to Close\n",
       "Location                     \n",
       "SAO LUIS               1037.5\n",
       "RECIFE                  875.0\n",
       "FORTALEZA               611.0\n",
       "NATAL                   477.0"
      ]
     },
     "execution_count": 358,
     "metadata": {},
     "output_type": "execute_result"
    }
   ],
   "source": [
    "# Grouping our data to find the average time to close in each location\n",
    "avg_time_to_close = claims.groupby(by='Location')['Time to Close'].agg('median').sort_values(ascending=False).to_frame(name='(Avg)Time to Close')\n",
    "avg_time_to_close"
   ]
  },
  {
   "cell_type": "code",
   "execution_count": null,
   "metadata": {},
   "outputs": [
    {
     "data": {
      "text/plain": [
       "Index(['(Avg)Time to Close'], dtype='object')"
      ]
     },
     "execution_count": 359,
     "metadata": {},
     "output_type": "execute_result"
    }
   ],
   "source": [
    "avg_time_to_close.columns"
   ]
  },
  {
   "cell_type": "code",
   "execution_count": null,
   "metadata": {},
   "outputs": [
    {
     "data": {
      "image/png": "[encoded data removed]",
      "text/plain": [
       "<Figure size 432x288 with 1 Axes>"
      ]
     },
     "metadata": {
      "needs_background": "light"
     },
     "output_type": "display_data"
    }
   ],
   "source": [
    "claims.groupby(by='Location')['Time to Close'].median().sort_values().plot(kind='barh', color='#a1c9f4', title='Avg Time to Close')\n",
    "plt.xlabel('Days to Close Claim (Avg)')\n",
    "plt.show()"
   ]
  },
  {
   "cell_type": "markdown",
   "metadata": {},
   "source": [
    "As we can see, the average time to close a claim within the whole Vivendo Company is about 638 days. The locations with a higher number of claims still seem to have a higher average time to close, with Sao Luis and Natal being the most and least locations in average time, respectively"
   ]
  },
  {
   "cell_type": "markdown",
   "metadata": {},
   "source": [
    "<b>Bonus:</b> Is there any correlation between any two variables in our data? Lets find the correlation of each column and analyze our findings"
   ]
  },
  {
   "cell_type": "code",
   "execution_count": null,
   "metadata": {},
   "outputs": [
    {
     "data": {
      "text/html": [
       "<div>\n",
       "<style scoped>\n",
       "    .dataframe tbody tr th:only-of-type {\n",
       "        vertical-align: middle;\n",
       "    }\n",
       "\n",
       "    .dataframe tbody tr th {\n",
       "        vertical-align: top;\n",
       "    }\n",
       "\n",
       "    .dataframe thead th {\n",
       "        text-align: right;\n",
       "    }\n",
       "</style>\n",
       "<table border=\"1\" class=\"dataframe\">\n",
       "  <thead>\n",
       "    <tr style=\"text-align: right;\">\n",
       "      <th></th>\n",
       "      <th>Time to Close</th>\n",
       "      <th>Claim Amount</th>\n",
       "      <th>Amount Paid</th>\n",
       "      <th>Individuals on Claim</th>\n",
       "      <th>Linked Cases</th>\n",
       "    </tr>\n",
       "  </thead>\n",
       "  <tbody>\n",
       "    <tr>\n",
       "      <th>Time to Close</th>\n",
       "      <td>1.000000</td>\n",
       "      <td>-0.122153</td>\n",
       "      <td>-0.174050</td>\n",
       "      <td>-0.126452</td>\n",
       "      <td>-0.117329</td>\n",
       "    </tr>\n",
       "    <tr>\n",
       "      <th>Claim Amount</th>\n",
       "      <td>-0.122153</td>\n",
       "      <td>1.000000</td>\n",
       "      <td>0.870107</td>\n",
       "      <td>0.999240</td>\n",
       "      <td>0.871404</td>\n",
       "    </tr>\n",
       "    <tr>\n",
       "      <th>Amount Paid</th>\n",
       "      <td>-0.174050</td>\n",
       "      <td>0.870107</td>\n",
       "      <td>1.000000</td>\n",
       "      <td>0.868906</td>\n",
       "      <td>0.801807</td>\n",
       "    </tr>\n",
       "    <tr>\n",
       "      <th>Individuals on Claim</th>\n",
       "      <td>-0.126452</td>\n",
       "      <td>0.999240</td>\n",
       "      <td>0.868906</td>\n",
       "      <td>1.000000</td>\n",
       "      <td>0.870925</td>\n",
       "    </tr>\n",
       "    <tr>\n",
       "      <th>Linked Cases</th>\n",
       "      <td>-0.117329</td>\n",
       "      <td>0.871404</td>\n",
       "      <td>0.801807</td>\n",
       "      <td>0.870925</td>\n",
       "      <td>1.000000</td>\n",
       "    </tr>\n",
       "  </tbody>\n",
       "</table>\n",
       "</div>"
      ],
      "text/plain": [
       "                      Time to Close  Claim Amount  Amount Paid  \\\n",
       "Time to Close              1.000000     -0.122153    -0.174050   \n",
       "Claim Amount              -0.122153      1.000000     0.870107   \n",
       "Amount Paid               -0.174050      0.870107     1.000000   \n",
       "Individuals on Claim      -0.126452      0.999240     0.868906   \n",
       "Linked Cases              -0.117329      0.871404     0.801807   \n",
       "\n",
       "                      Individuals on Claim  Linked Cases  \n",
       "Time to Close                    -0.126452     -0.117329  \n",
       "Claim Amount                      0.999240      0.871404  \n",
       "Amount Paid                       0.868906      0.801807  \n",
       "Individuals on Claim              1.000000      0.870925  \n",
       "Linked Cases                      0.870925      1.000000  "
      ]
     },
     "execution_count": 361,
     "metadata": {},
     "output_type": "execute_result"
    }
   ],
   "source": [
    "claims.corr()"
   ]
  },
  {
   "cell_type": "code",
   "execution_count": null,
   "metadata": {},
   "outputs": [
    {
     "data": {
      "image/png": "[encoded data removed]",
      "text/plain": [
       "<Figure size 432x288 with 2 Axes>"
      ]
     },
     "metadata": {
      "needs_background": "light"
     },
     "output_type": "display_data"
    }
   ],
   "source": [
    "sns.heatmap(claims.corr(), annot=True)\n",
    "plt.show()"
   ]
  },
  {
   "cell_type": "markdown",
   "metadata": {},
   "source": [
    "There appears to be a correlation between the Claim Amount and the Individuals on Claim, with a high correlation coefficient of 0.999240, lets plot this specific correlation on a scatterplot"
   ]
  },
  {
   "cell_type": "code",
   "execution_count": null,
   "metadata": {},
   "outputs": [
    {
     "data": {
      "text/plain": [
       "<AxesSubplot:xlabel='Claim Amount', ylabel='Individuals on Claim'>"
      ]
     },
     "execution_count": 362,
     "metadata": {},
     "output_type": "execute_result"
    },
    {
     "data": {
      "image/png": "[encoded data removed]",
      "text/plain": [
       "<Figure size 432x288 with 1 Axes>"
      ]
     },
     "metadata": {
      "needs_background": "light"
     },
     "output_type": "display_data"
    }
   ],
   "source": [
    "sns.regplot(data=claims, x='Claim Amount', y='Individuals on Claim', ci=None)"
   ]
  },
  {
   "cell_type": "markdown",
   "metadata": {},
   "source": [
    "We can spot a pattern between the correlation between the Claim Amount and the Individuals on Claim that has a perfect positive correlation coefficient. Which means an increase in the number of Individuals on the Claim increases the Claim Amount paid"
   ]
  }
 ],
 "metadata": {
  "kernelspec": {
   "display_name": "Python 3.9.12 ('Learning')",
   "language": "python",
   "name": "python3"
  },
  "language_info": {
   "codemirror_mode": {
    "name": "ipython",
    "version": 3
   },
   "file_extension": ".py",
   "mimetype": "text/x-python",
   "name": "python",
   "nbconvert_exporter": "python",
   "pygments_lexer": "ipython3",
   "version": "3.9.12"
  },
  "orig_nbformat": 4,
  "vscode": {
   "interpreter": {
    "hash": "293183e071466e8dd4f56f4343cc2a24685f24fdc9574d7ee7ac19932491a955"
   }
  }
 },
 "nbformat": 4,
 "nbformat_minor": 2
}
